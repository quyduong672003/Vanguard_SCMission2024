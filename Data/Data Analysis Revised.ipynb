{
 "cells": [
  {
   "cell_type": "code",
   "execution_count": 2,
   "metadata": {},
   "outputs": [],
   "source": [
    "import pandas as pd\n",
    "import numpy as np\n",
    "import matplotlib.pyplot as plt\n",
    "import seaborn as sns"
   ]
  },
  {
   "cell_type": "code",
   "execution_count": 17,
   "metadata": {},
   "outputs": [],
   "source": [
    "df = pd.read_excel('CEL SCMission 2024 _ Round 3 _ Data (shareable).xlsx', sheet_name=None)\n",
    "df_sales = df.get('Sales Order')\n",
    "df_product = df.get('Product Master')"
   ]
  },
  {
   "cell_type": "code",
   "execution_count": 18,
   "metadata": {},
   "outputs": [],
   "source": [
    "df_merge = pd.merge(df_sales, df_product, left_on='Product ID', right_on='Product ID', how='left')\n",
    "df_merge['KG per Pallet']=df_merge['KG per Each']*df_merge['Each Per Carton']*df_merge['Carton Per Pallet']\n",
    "df_merge['No.Pallets'] = df_merge['Quantity in Kg']/df_merge['KG per Pallet']\n",
    "df_merge['Date'] = pd.to_datetime(df_merge['Date'])\n",
    "df_merge['Product ID'] = df_merge['Product ID'].astype(str).str.zfill(7)\n",
    "df_merge = df_merge[df_merge['Quantity in Kg']>0]\n",
    "df_merge['Trade'] = np.where(df_merge['Country of Origin'] == df_merge['Sales in Country'], 'Domestic', 'International')\n",
    "df_merge['Month_Year'] = df_merge['Date'].dt.strftime('%B %Y')"
   ]
  },
  {
   "cell_type": "markdown",
   "metadata": {},
   "source": [
    "# Export data for distribution network"
   ]
  },
  {
   "cell_type": "code",
   "execution_count": 60,
   "metadata": {},
   "outputs": [],
   "source": [
    "df_merge.to_excel('Combined data master.xlsx', index=False)"
   ]
  },
  {
   "cell_type": "markdown",
   "metadata": {},
   "source": [
    "# Top product list"
   ]
  },
  {
   "cell_type": "code",
   "execution_count": 8,
   "metadata": {},
   "outputs": [],
   "source": [
    "writer = pd.ExcelWriter(\"Top product list.xlsx\")\n",
    "df_product = df_merge.groupby(['Product ID', 'Product Name', 'Country of Origin','Category'])['Quantity in Kg'].sum().reset_index()\n",
    "for i in df_product['Category'].unique():\n",
    "    df_top_product = df_product[df_product['Category'] == i].sort_values('Quantity in Kg', ascending=False).head(6)\n",
    "    if df_top_product.empty:\n",
    "        continue\n",
    "    else:\n",
    "        df_top_product.to_excel(writer, sheet_name=i, index = False, freeze_panes=(1, 0)) \n",
    "    pd.io.formats.excel.header_style = None\n",
    "writer.close()"
   ]
  },
  {
   "cell_type": "markdown",
   "metadata": {},
   "source": [
    "# ABC Classification"
   ]
  },
  {
   "cell_type": "code",
   "execution_count": 14,
   "metadata": {},
   "outputs": [],
   "source": [
    "abc_classification = pd.ExcelWriter(\"ABC Classifiction for each year.xlsx\")\n",
    "\n",
    "df_merge['Year'] = df_merge['Date'].dt.year\n",
    "list_year = df_merge['Year'].unique()\n",
    "\n",
    "abc_classifications = {}\n",
    "for year in list_year:\n",
    "    product_sales = df_merge[df_merge['Year'] == year]\n",
    "    product_sales = product_sales.groupby(['Product ID','Product Name'])['Quantity in Kg'].sum().reset_index()\n",
    "    product_sales_sorted = product_sales.sort_values(by='Quantity in Kg', ascending=False)\n",
    "    total_sales_volume = product_sales_sorted['Quantity in Kg'].sum()\n",
    "    product_sales_sorted['Cumulative Volume'] = product_sales_sorted['Quantity in Kg'].cumsum()\n",
    "    product_sales_sorted['Cumulative Percentage'] = 100 * product_sales_sorted['Cumulative Volume'] / total_sales_volume\n",
    "\n",
    "    product_sales_sorted['Category'] = pd.cut(product_sales_sorted['Cumulative Percentage'],\n",
    "                                            bins=[0, 80, 95, 100],\n",
    "                                            labels=['A', 'B', 'C'])\n",
    "    product_sales_sorted.to_excel(abc_classification, sheet_name=f'{year}', index = False, freeze_panes=(1, 0)) \n",
    "    pd.io.formats.excel.header_style = None\n",
    "abc_classification.close()\n",
    "\n"
   ]
  },
  {
   "cell_type": "code",
   "execution_count": null,
   "metadata": {},
   "outputs": [],
   "source": []
  }
 ],
 "metadata": {
  "kernelspec": {
   "display_name": "Python 3",
   "language": "python",
   "name": "python3"
  },
  "language_info": {
   "codemirror_mode": {
    "name": "ipython",
    "version": 3
   },
   "file_extension": ".py",
   "mimetype": "text/x-python",
   "name": "python",
   "nbconvert_exporter": "python",
   "pygments_lexer": "ipython3",
   "version": "3.11.5"
  }
 },
 "nbformat": 4,
 "nbformat_minor": 2
}
